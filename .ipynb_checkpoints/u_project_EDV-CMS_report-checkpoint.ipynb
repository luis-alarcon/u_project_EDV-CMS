{
 "cells": [
  {
   "cell_type": "markdown",
   "metadata": {},
   "source": [
    "<center><h1>Sepsis</h1></center>\n",
    "<center><h2>A Visual Story from the Medicare Free-For Service Prodiver Utilization &amp; Payment Data In Patient Report</h2></center>"
   ]
  },
  {
   "cell_type": "markdown",
   "metadata": {},
   "source": [
    "<i>Produced by: <b>Luis Alarcon</b></i>"
   ]
  },
  {
   "cell_type": "markdown",
   "metadata": {},
   "source": [
    "<h2>Summary</h2>\n",
    "<p>This story further explores Sepsis of the exploratory data analysis performed <a href=\"https://github.com/luis-alarcon/u_project_EDA_CMS\">here</a>. We start by looking at the distribution of data between average Covered Charges (USD) against Average Medicare Payments (USD)  on all data entries. We continue by looking at the same distribution but only for dignosis of Sepsis. The final section of this story presents the distribution presented before but separated between states in both scatter plot (which also shows the size of the data depending on the total of discharges) and a USA map with similar characteristics as the scatter plot. Another plot presented in the final section of this story is a linear distribution between Total Discharges and Average Total Payments (USD) as well as Total Discharges and Average Medicare Payments (USD).</p>"
   ]
  },
  {
   "cell_type": "markdown",
   "metadata": {},
   "source": [
    "<h2>Design</h2>\n",
    "<h3>Choosing an area of focus</h3>\n",
    "<p>The dataset, which can be found here, has an array of diagnosis that it has stored. There are many diagnoses that for either personal reasons or professional reasons hold an interest, among them sepsis was of particular interest.\n",
    "</p>\n",
    "<p>There are many stories and emphasis on sepsis lately. For example, stories found <a href=\"https://www.theguardian.com/uk-news/2018/oct/08/hospital-criticised-for-neglect-over-sepsis-death-of-man-39\">here</a> and <a href=\"https://www.bbc.com/news/uk-wales-45498914\">here</a>. However, my interest primary lies in the disease itself, due to my training. Focusing on the disease will allow for it to be less threating.</p>\n",
    "\n",
    "<h3>Sepsis: a Brief Summary</h3>\n",
    "<p>Sepsis is a life-threating clinical condition and carries a very high mortality rate (<cite><a href=\"https://www.annualreviews.org/doi/full/10.1146/annurev-pathol-011110-130327\">Stearns-Kurosawa, et. all (2011)</a>, <a href =\"https://www.ncbi.nlm.nih.gov/pmc/articles/PMC5538252/\">Hotchkiss, et. all (2016)</cite></a>). It represents an uncontrol upregulation of a normal immune and physiologic response to the eradication of pathogens.</p>\n",
    "<p>Despite all the efforts made by scientist around the world to understand the mechanism surrounding the start, development of sepsis the treatments used for intervening in the progression of it hare only partially successful.</p>\n",
    "<p>Due to the nature of this dataset, not much insight is obtained on the pathogenesis of this ailment. However, an idea into the number of discharges and costs of Sepsis.\n",
    "</p>\n",
    "\n",
    "<h3>Story: Design</h3>\n",
    "<p>We start by recreating one of the images created in the <a href=\"https://github.com/luis-alarcon/u_project_EDA_CMS\">project</a> mention in the summary of this report. We continue the story by exploring the distribution of the number of records per diagnosis as well as the number of total discharges per diagnosis.</p>\n",
    "    \n",
    "<p>Afterwards, we create a new model that explores the whole data but filter for all Sepsis diagnosis found in the dataset. The last part of the story will show an interactive map where visualisation of the data could be seen in a scatter plot, a linear plot and globe graph.</p>\n",
    "<p>We start by recreating one of the images created in the project mention in the summary of this report. Afterwards, we create a new model that explores the whole data but filter for all Sepsis diagnosis found in the dataset. The last part of the story will show an interactive map where visualisation of the data could be seen in a scatter plot, a linear plot and globe graph.</p>\n",
    "<p>The final story can be viewed in this <a href=\"https://public.tableau.com/profile/luis.alarcon#!/vizhome/udacity_MS-DRG_Sepsis_revision/Sepsis?publish=yes\">link</a></p>"
   ]
  },
  {
   "cell_type": "markdown",
   "metadata": {},
   "source": [
    "<h2>Feedback</h2>\n",
    "<p>The link to the Tableau story was share to a group of colleagues, of which only three responded. The following were amount the suggestions related to modifying the graphs present in the story. Also, Udacity's review team made further suggestions for the story. </p>\n",
    "<ol>\n",
    "    <li><p>Feedback 1:</p>\n",
    "        <ul>\n",
    "            <li><b>Problem</b>: More Details given for the scatterplots.</li>\n",
    "            <li><b>Solution</b>: The suggestion was directed at the lack of details shown when a particular circle was selected from the scatter plots. This suggestion was solved by adding by information such as state, diagnosis and provider's name to the scatter plot graphs in the storyline; except for the first global scatter plot..</li>\n",
    "        </ul>\n",
    "    </li>\n",
    "    <li><p>Feedback 2:</p>\n",
    "        <ul>\n",
    "            <li><b>Problem</b>: More Details given for the Globe Map area.</li>\n",
    "            <li><b>Solution</b>: MThe suggestion was directed at a lack of details shown when a particular entry in the Globe Map was selected. Similarly to Feedback 1, more information was added.</li>\n",
    "        </ul>\n",
    "    </li>\n",
    "    <li><p>Feedback 3:</p>\n",
    "        <ul>\n",
    "            <li><b>Problem</b>: Create a table that shows the numeric difference for every state making a distinction with Average Covered Charges, Average Medicare Payments and Total Discharges.</li>\n",
    "            <li><b>Solution</b>: The suggestion was directed at the creation of a table showing the data presented in the section \"Sepsis: Average Covered Charges vs Average Medicare Payments\". Therefore a chart was created that shows the three main variables explored in this story (Average Covered Charges, Average Medicare Payments and Total Discharges) as well as their values for the three related sepsis diagnosis and separated among each state.</li>\n",
    "        </ul>\n",
    "    </li>\n",
    "    <li><p>Feedback 4:</p>\n",
    "        <ul>\n",
    "            <li><b>Problem</b>: Modify the description made in the Tableau Public Link of the story.</li>\n",
    "            <li><b>Solution</b>: The suggestion was directed at the brief description in the Tableau Public Profile of this story. Therefore a modification was made.</li>\n",
    "        </ul>\n",
    "    </li>\n",
    "    <li><p>Feedback 5:</p>\n",
    "        <ul>\n",
    "            <li><b>Problem</b>: Make use further use of the data to create graphs that further illustrate the distributions per diagnosis..</li>\n",
    "            <li><b>Solution</b>: The suggestion was directed at creating a more elaborate and detail illustration of the diagnosis found in the dataset. This suggestion was made by adding an extra element in the story that explores the number of records in the dataset for each diagnosis with a colour-based distinction as well a bar graph that shows the total amount of discharges per diagnosis.</li>\n",
    "        </ul>\n",
    "    </li>\n",
    "    <li><p>Feedback 6:</p>\n",
    "        <ul>\n",
    "            <li><b>Problem</b>: Modify the graphs ratio and design so a more user-friendly experience can be given for viewers with smaller screens.</li>\n",
    "            <li><b>Solution</b>: \n",
    "The last suggestion was directed at modifying the elements within a graph so that an array of devices from users could have a better look at the content of the story. This suggestion was address by modifying the size of some aspects of each graph in this story.</li>\n",
    "        </ul>\n",
    "    </li>\n",
    "</ol>"
   ]
  },
  {
   "cell_type": "markdown",
   "metadata": {},
   "source": [
    "<h2>Resources</h2>\n",
    "<p>No external resources were used on the development of this project.</p>"
   ]
  },
  {
   "cell_type": "markdown",
   "metadata": {},
   "source": [
    "<h2>Data Files</h2>\n",
    "<p>These are the main files used for this Exploratory Data Visualization.</p>\n",
    "\n",
    "<b>Data:</b>\n",
    "<ul>\n",
    "    <li><p><b>df_cms.csv</b>: The primary data was extracted from this <a href=\"https://data.cms.gov/Medicare-Inpatient/Inpatient-Prospective-Payment-System-IPPS-Provider/97k6-zzx3\">link</a>. More data was included to the original dataset; for example, census region, census region division and federal region. </p></li>\n",
    "    <li><p><b>df_cms_location.csv</b>: This dataset includes the geolocation of the Providers Address. The location was acquired via the slight modification of a script written by <a href=\"https://github.com/EthanHicks1/PythonBatchGeocoder\">EthanHicks1</a>.</p></li>\n",
    "    <li><p><b>output163065.csv</b>: the geocoordinates for the address from the providers in the dataset.</p></li>\n",
    "</ul>\n",
    "\n",
    "<b>Analysis:</b>\n",
    "<ul>\n",
    "    <li><p><b>u_project_EDA-CMS_python3.ipynb</b>: This file is a copy of the one found in a previous project found in <a href=\"https://github.com/luis-alarcon/u_project_EDA_CMS\">Github</a>. This script was used to generate the data acquired for this Exploratory Data Visualization.</p></li>\n",
    "    <li><p><b>u_project_EDA-CMS_python3.html</b>: This is an <code>HTML</code> version of the <code>.ipynb</code> file.</p></li>\n",
    "</ul>\n",
    "\n",
    "<b>Requirements:</b>"
   ]
  },
  {
   "cell_type": "code",
   "execution_count": 2,
   "metadata": {},
   "outputs": [],
   "source": [
    "import pandas as pd \n",
    "import numpy as np\n",
    "import glob\n",
    "import requests\n",
    "import os\n",
    "import geocoder\n",
    "import time"
   ]
  }
 ],
 "metadata": {
  "kernelspec": {
   "display_name": "Python 3",
   "language": "python",
   "name": "python3"
  },
  "language_info": {
   "codemirror_mode": {
    "name": "ipython",
    "version": 3
   },
   "file_extension": ".py",
   "mimetype": "text/x-python",
   "name": "python",
   "nbconvert_exporter": "python",
   "pygments_lexer": "ipython3",
   "version": "3.6.6"
  }
 },
 "nbformat": 4,
 "nbformat_minor": 2
}
